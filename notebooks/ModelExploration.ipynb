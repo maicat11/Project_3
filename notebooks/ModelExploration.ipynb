{
 "cells": [
  {
   "cell_type": "markdown",
   "metadata": {},
   "source": [
    "# Model Exploration"
   ]
  },
  {
   "cell_type": "code",
   "execution_count": 3,
   "metadata": {
    "collapsed": true
   },
   "outputs": [],
   "source": [
    "import sys\n",
    "sys.path.insert(0, '../')\n",
    "\n",
    "import pandas as pd\n",
    "import numpy as np\n",
    "\n",
    "from sklearn import ensemble, linear_model, neighbors, naive_bayes, preprocessing, pipeline\n",
    "from sklearn.preprocessing import OneHotEncoder\n",
    "from sklearn.metrics import confusion_matrix, roc_curve, roc_auc_score\n",
    "from sklearn.metrics import f1_score\n",
    "from sklearn.model_selection import train_test_split, RandomizedSearchCV, GridSearchCV\n",
    "from xgboost import XGBClassifier\n",
    "from catboost import CatBoostClassifier, FeaturesData, Pool\n",
    "\n",
    "from visualize import print_confusion_matrix \n",
    "from modeling import split_data\n",
    "\n",
    "import matplotlib.pyplot as plt\n",
    "import seaborn as sns\n",
    "\n",
    "plt.style.use('ggplot')\n",
    "sns.set_style(\"whitegrid\")\n",
    "%matplotlib inline"
   ]
  },
  {
   "cell_type": "code",
   "execution_count": 4,
   "metadata": {},
   "outputs": [
    {
     "name": "stdout",
     "output_type": "stream",
     "text": [
      "(1116491, 15)\n"
     ]
    },
    {
     "data": {
      "text/html": [
       "<div>\n",
       "<style scoped>\n",
       "    .dataframe tbody tr th:only-of-type {\n",
       "        vertical-align: middle;\n",
       "    }\n",
       "\n",
       "    .dataframe tbody tr th {\n",
       "        vertical-align: top;\n",
       "    }\n",
       "\n",
       "    .dataframe thead th {\n",
       "        text-align: right;\n",
       "    }\n",
       "</style>\n",
       "<table border=\"1\" class=\"dataframe\">\n",
       "  <thead>\n",
       "    <tr style=\"text-align: right;\">\n",
       "      <th></th>\n",
       "      <th>Unnamed: 0</th>\n",
       "      <th>search_id</th>\n",
       "      <th>is_click</th>\n",
       "      <th>ad_id</th>\n",
       "      <th>position</th>\n",
       "      <th>hist_ctr</th>\n",
       "      <th>category</th>\n",
       "      <th>price</th>\n",
       "      <th>user_id</th>\n",
       "      <th>num_searches</th>\n",
       "      <th>first_search_date</th>\n",
       "      <th>last_search_date</th>\n",
       "      <th>num_days</th>\n",
       "      <th>num_land_page_views</th>\n",
       "      <th>num_phone_req</th>\n",
       "    </tr>\n",
       "  </thead>\n",
       "  <tbody>\n",
       "    <tr>\n",
       "      <th>0</th>\n",
       "      <td>0</td>\n",
       "      <td>121.0</td>\n",
       "      <td>1.0</td>\n",
       "      <td>1220223.0</td>\n",
       "      <td>7.0</td>\n",
       "      <td>0.005422</td>\n",
       "      <td>22.0</td>\n",
       "      <td>1000.0</td>\n",
       "      <td>3817669.0</td>\n",
       "      <td>3</td>\n",
       "      <td>2015-05-01</td>\n",
       "      <td>2015-05-09</td>\n",
       "      <td>8</td>\n",
       "      <td>147.0</td>\n",
       "      <td>0.0</td>\n",
       "    </tr>\n",
       "    <tr>\n",
       "      <th>1</th>\n",
       "      <td>1</td>\n",
       "      <td>438.0</td>\n",
       "      <td>1.0</td>\n",
       "      <td>29135166.0</td>\n",
       "      <td>1.0</td>\n",
       "      <td>0.004846</td>\n",
       "      <td>50.0</td>\n",
       "      <td>878.0</td>\n",
       "      <td>2675985.0</td>\n",
       "      <td>8</td>\n",
       "      <td>2015-05-01</td>\n",
       "      <td>2015-05-15</td>\n",
       "      <td>14</td>\n",
       "      <td>2231.0</td>\n",
       "      <td>2.0</td>\n",
       "    </tr>\n",
       "    <tr>\n",
       "      <th>2</th>\n",
       "      <td>2</td>\n",
       "      <td>466.0</td>\n",
       "      <td>1.0</td>\n",
       "      <td>6955209.0</td>\n",
       "      <td>7.0</td>\n",
       "      <td>0.007163</td>\n",
       "      <td>42.0</td>\n",
       "      <td>450.0</td>\n",
       "      <td>991573.0</td>\n",
       "      <td>2</td>\n",
       "      <td>2015-05-11</td>\n",
       "      <td>2015-05-18</td>\n",
       "      <td>7</td>\n",
       "      <td>105.0</td>\n",
       "      <td>7.0</td>\n",
       "    </tr>\n",
       "    <tr>\n",
       "      <th>3</th>\n",
       "      <td>3</td>\n",
       "      <td>488.0</td>\n",
       "      <td>0.0</td>\n",
       "      <td>20058023.0</td>\n",
       "      <td>1.0</td>\n",
       "      <td>0.008362</td>\n",
       "      <td>40.0</td>\n",
       "      <td>799.0</td>\n",
       "      <td>632068.0</td>\n",
       "      <td>1</td>\n",
       "      <td>2015-05-08</td>\n",
       "      <td>2015-05-08</td>\n",
       "      <td>1</td>\n",
       "      <td>47.0</td>\n",
       "      <td>4.0</td>\n",
       "    </tr>\n",
       "    <tr>\n",
       "      <th>4</th>\n",
       "      <td>4</td>\n",
       "      <td>518.0</td>\n",
       "      <td>1.0</td>\n",
       "      <td>24728248.0</td>\n",
       "      <td>1.0</td>\n",
       "      <td>0.004281</td>\n",
       "      <td>7.0</td>\n",
       "      <td>40000.0</td>\n",
       "      <td>1617123.0</td>\n",
       "      <td>1</td>\n",
       "      <td>2015-04-27</td>\n",
       "      <td>2015-04-27</td>\n",
       "      <td>1</td>\n",
       "      <td>49.0</td>\n",
       "      <td>2.0</td>\n",
       "    </tr>\n",
       "  </tbody>\n",
       "</table>\n",
       "</div>"
      ],
      "text/plain": [
       "   Unnamed: 0  search_id  is_click       ad_id  position  hist_ctr  category  \\\n",
       "0           0      121.0       1.0   1220223.0       7.0  0.005422      22.0   \n",
       "1           1      438.0       1.0  29135166.0       1.0  0.004846      50.0   \n",
       "2           2      466.0       1.0   6955209.0       7.0  0.007163      42.0   \n",
       "3           3      488.0       0.0  20058023.0       1.0  0.008362      40.0   \n",
       "4           4      518.0       1.0  24728248.0       1.0  0.004281       7.0   \n",
       "\n",
       "     price    user_id  num_searches first_search_date last_search_date  \\\n",
       "0   1000.0  3817669.0             3        2015-05-01       2015-05-09   \n",
       "1    878.0  2675985.0             8        2015-05-01       2015-05-15   \n",
       "2    450.0   991573.0             2        2015-05-11       2015-05-18   \n",
       "3    799.0   632068.0             1        2015-05-08       2015-05-08   \n",
       "4  40000.0  1617123.0             1        2015-04-27       2015-04-27   \n",
       "\n",
       "   num_days  num_land_page_views  num_phone_req  \n",
       "0         8                147.0            0.0  \n",
       "1        14               2231.0            2.0  \n",
       "2         7                105.0            7.0  \n",
       "3         1                 47.0            4.0  \n",
       "4         1                 49.0            2.0  "
      ]
     },
     "execution_count": 4,
     "metadata": {},
     "output_type": "execute_result"
    }
   ],
   "source": [
    "df = pd.read_csv('../data/processed/avito_train_search_stream_data.csv')\n",
    "unbalanced_df = pd.read_csv('../data/processed/avito_search_stream_data.csv')\n",
    "print(df.shape)\n",
    "df.head()"
   ]
  },
  {
   "cell_type": "markdown",
   "metadata": {},
   "source": [
    "### Benchmark Scoring and Model Selection\n",
    "No additional feature engineering post SQL queries"
   ]
  },
  {
   "cell_type": "code",
   "execution_count": 5,
   "metadata": {},
   "outputs": [
    {
     "name": "stdout",
     "output_type": "stream",
     "text": [
      "Training size  714553\n",
      "Validation size  178639\n",
      "Test size  223299\n"
     ]
    }
   ],
   "source": [
    "# filter out some colums for MVP model\n",
    "cols = ['position', 'hist_ctr', 'category', 'price', 'num_searches',\n",
    "        'num_days', 'num_land_page_views', 'num_phone_req']\n",
    "\n",
    "target = 'is_click'\n",
    "\n",
    "X_train, y_train, X_val, y_val, X_test, y_test = split_data(df, cols, target) \n",
    "print('Training size ', X_train.shape[0])\n",
    "print('Validation size ', X_val.shape[0])\n",
    "print('Test size ', X_test.shape[0])"
   ]
  },
  {
   "cell_type": "code",
   "execution_count": 6,
   "metadata": {},
   "outputs": [
    {
     "name": "stderr",
     "output_type": "stream",
     "text": [
      "/Users/maileivargas/anaconda3/lib/python3.6/site-packages/sklearn/linear_model/sag.py:334: ConvergenceWarning: The max_iter was reached which means the coef_ did not converge\n",
      "  \"the coef_ did not converge\", ConvergenceWarning)\n"
     ]
    },
    {
     "name": "stdout",
     "output_type": "stream",
     "text": [
      "logistic F1 Score = 0.5658277117408227\n",
      "logistic ROC AUC score = 0.5428506610806293\n",
      "random-forest F1 Score = 0.653372742500729\n",
      "random-forest ROC AUC score = 0.7202440754886555\n",
      "knn F1 Score = 0.588154600637882\n",
      "knn ROC AUC score = 0.6290507752419141\n",
      "nb F1 Score = 0.6585748850326074\n",
      "nb ROC AUC score = 0.5860326093467949\n",
      "xg-boost F1 Score = 0.6713712639132153\n",
      "xg-boost ROC AUC score = 0.7389025698611109\n",
      "cat-boost F1 Score = 0.6672154439457837\n",
      "cat-boost ROC AUC score = 0.7312150867967241\n"
     ]
    }
   ],
   "source": [
    "model_dict = {\n",
    "    \"logistic\": linear_model.LogisticRegression(solver=\"saga\", C=20),    \n",
    "    \"random-forest\": ensemble.RandomForestClassifier(n_estimators=100),\n",
    "    \"knn\": neighbors.KNeighborsClassifier(),\n",
    "    \"nb\": naive_bayes.GaussianNB(),\n",
    "    \"xg-boost\": XGBClassifier(max_depth=10, gamma= 0.8, eta=0.2, \n",
    "                              nthread=6, min_child_weight=4),\n",
    "    \"cat-boost\": CatBoostClassifier(max_depth=10, verbose=False, eta=0.2),\n",
    "}\n",
    "\n",
    "for model_key in model_dict:  \n",
    "    \n",
    "    # create a model, fit, train, predict \n",
    "    model = model_dict[model_key]\n",
    "    if model_key == 'cat-boost':\n",
    "        cat_features = [0,2]\n",
    "        model.fit(X_train, y_train, cat_features)\n",
    "        \n",
    "    else:\n",
    "        model.fit(X_train, y_train)\n",
    "        \n",
    "    y_pred = model.predict(X_val)\n",
    "    f1score = f1_score(y_val, y_pred, average='binary')\n",
    "    auc_score = roc_auc_score(y_val, model.predict_proba(X_val)[:,1])\n",
    "    print(f'{model_key} F1 Score =', f1score)\n",
    "    print(f\"{model_key} ROC AUC score =\", auc_score)\n",
    "    "
   ]
  },
  {
   "cell_type": "markdown",
   "metadata": {},
   "source": [
    "The best perfoming models above are:\n",
    "* Random Forest\n",
    "* XGBClassifier\n",
    "* CATBoost\n",
    "\n",
    "Next step is to make some changes in the data and see if scores of above 3 models improve\n",
    "\n",
    "### Additional Feature Engineering"
   ]
  },
  {
   "cell_type": "code",
   "execution_count": 7,
   "metadata": {},
   "outputs": [
    {
     "name": "stdout",
     "output_type": "stream",
     "text": [
      "(1092423, 23)\n"
     ]
    },
    {
     "data": {
      "text/html": [
       "<div>\n",
       "<style scoped>\n",
       "    .dataframe tbody tr th:only-of-type {\n",
       "        vertical-align: middle;\n",
       "    }\n",
       "\n",
       "    .dataframe tbody tr th {\n",
       "        vertical-align: top;\n",
       "    }\n",
       "\n",
       "    .dataframe thead th {\n",
       "        text-align: right;\n",
       "    }\n",
       "</style>\n",
       "<table border=\"1\" class=\"dataframe\">\n",
       "  <thead>\n",
       "    <tr style=\"text-align: right;\">\n",
       "      <th></th>\n",
       "      <th>Unnamed: 0</th>\n",
       "      <th>search_id</th>\n",
       "      <th>is_click</th>\n",
       "      <th>ad_id</th>\n",
       "      <th>position</th>\n",
       "      <th>hist_ctr</th>\n",
       "      <th>category</th>\n",
       "      <th>day_of_week</th>\n",
       "      <th>hour_of_day</th>\n",
       "      <th>price</th>\n",
       "      <th>...</th>\n",
       "      <th>num_searches</th>\n",
       "      <th>first_search_date</th>\n",
       "      <th>last_search_date</th>\n",
       "      <th>num_days</th>\n",
       "      <th>num_land_page_views</th>\n",
       "      <th>num_phone_req</th>\n",
       "      <th>price_ratio</th>\n",
       "      <th>title_length</th>\n",
       "      <th>price_search</th>\n",
       "      <th>pos_hist</th>\n",
       "    </tr>\n",
       "  </thead>\n",
       "  <tbody>\n",
       "    <tr>\n",
       "      <th>0</th>\n",
       "      <td>0</td>\n",
       "      <td>121.0</td>\n",
       "      <td>1.0</td>\n",
       "      <td>1220223.0</td>\n",
       "      <td>7.0</td>\n",
       "      <td>0.005422</td>\n",
       "      <td>22.0</td>\n",
       "      <td>6.0</td>\n",
       "      <td>22.0</td>\n",
       "      <td>1000.0</td>\n",
       "      <td>...</td>\n",
       "      <td>3</td>\n",
       "      <td>2015-05-01 06:33:18</td>\n",
       "      <td>2015-05-09 22:21:40</td>\n",
       "      <td>9</td>\n",
       "      <td>147.0</td>\n",
       "      <td>0.0</td>\n",
       "      <td>0.058064</td>\n",
       "      <td>50</td>\n",
       "      <td>3000.0</td>\n",
       "      <td>0.037954</td>\n",
       "    </tr>\n",
       "    <tr>\n",
       "      <th>1</th>\n",
       "      <td>1</td>\n",
       "      <td>438.0</td>\n",
       "      <td>1.0</td>\n",
       "      <td>29135166.0</td>\n",
       "      <td>1.0</td>\n",
       "      <td>0.004846</td>\n",
       "      <td>50.0</td>\n",
       "      <td>5.0</td>\n",
       "      <td>15.0</td>\n",
       "      <td>878.0</td>\n",
       "      <td>...</td>\n",
       "      <td>8</td>\n",
       "      <td>2015-05-01 15:48:08</td>\n",
       "      <td>2015-05-15 17:36:01</td>\n",
       "      <td>15</td>\n",
       "      <td>2231.0</td>\n",
       "      <td>2.0</td>\n",
       "      <td>0.575951</td>\n",
       "      <td>23</td>\n",
       "      <td>7024.0</td>\n",
       "      <td>0.004846</td>\n",
       "    </tr>\n",
       "    <tr>\n",
       "      <th>2</th>\n",
       "      <td>2</td>\n",
       "      <td>466.0</td>\n",
       "      <td>1.0</td>\n",
       "      <td>6955209.0</td>\n",
       "      <td>7.0</td>\n",
       "      <td>0.007163</td>\n",
       "      <td>42.0</td>\n",
       "      <td>1.0</td>\n",
       "      <td>21.0</td>\n",
       "      <td>450.0</td>\n",
       "      <td>...</td>\n",
       "      <td>2</td>\n",
       "      <td>2015-05-11 21:41:25</td>\n",
       "      <td>2015-05-18 22:21:49</td>\n",
       "      <td>8</td>\n",
       "      <td>105.0</td>\n",
       "      <td>7.0</td>\n",
       "      <td>0.046668</td>\n",
       "      <td>46</td>\n",
       "      <td>900.0</td>\n",
       "      <td>0.050141</td>\n",
       "    </tr>\n",
       "    <tr>\n",
       "      <th>3</th>\n",
       "      <td>3</td>\n",
       "      <td>488.0</td>\n",
       "      <td>0.0</td>\n",
       "      <td>20058023.0</td>\n",
       "      <td>1.0</td>\n",
       "      <td>0.008362</td>\n",
       "      <td>40.0</td>\n",
       "      <td>5.0</td>\n",
       "      <td>22.0</td>\n",
       "      <td>799.0</td>\n",
       "      <td>...</td>\n",
       "      <td>1</td>\n",
       "      <td>2015-05-08 22:38:09</td>\n",
       "      <td>2015-05-08 22:38:09</td>\n",
       "      <td>2</td>\n",
       "      <td>47.0</td>\n",
       "      <td>4.0</td>\n",
       "      <td>0.636833</td>\n",
       "      <td>48</td>\n",
       "      <td>799.0</td>\n",
       "      <td>0.008362</td>\n",
       "    </tr>\n",
       "    <tr>\n",
       "      <th>4</th>\n",
       "      <td>4</td>\n",
       "      <td>518.0</td>\n",
       "      <td>1.0</td>\n",
       "      <td>24728248.0</td>\n",
       "      <td>1.0</td>\n",
       "      <td>0.004281</td>\n",
       "      <td>7.0</td>\n",
       "      <td>1.0</td>\n",
       "      <td>11.0</td>\n",
       "      <td>40000.0</td>\n",
       "      <td>...</td>\n",
       "      <td>1</td>\n",
       "      <td>2015-04-27 11:33:25</td>\n",
       "      <td>2015-04-27 11:33:25</td>\n",
       "      <td>2</td>\n",
       "      <td>49.0</td>\n",
       "      <td>2.0</td>\n",
       "      <td>2.722949</td>\n",
       "      <td>20</td>\n",
       "      <td>40000.0</td>\n",
       "      <td>0.004281</td>\n",
       "    </tr>\n",
       "  </tbody>\n",
       "</table>\n",
       "<p>5 rows × 23 columns</p>\n",
       "</div>"
      ],
      "text/plain": [
       "   Unnamed: 0  search_id  is_click       ad_id  position  hist_ctr  category  \\\n",
       "0           0      121.0       1.0   1220223.0       7.0  0.005422      22.0   \n",
       "1           1      438.0       1.0  29135166.0       1.0  0.004846      50.0   \n",
       "2           2      466.0       1.0   6955209.0       7.0  0.007163      42.0   \n",
       "3           3      488.0       0.0  20058023.0       1.0  0.008362      40.0   \n",
       "4           4      518.0       1.0  24728248.0       1.0  0.004281       7.0   \n",
       "\n",
       "   day_of_week  hour_of_day    price    ...    num_searches  \\\n",
       "0          6.0         22.0   1000.0    ...               3   \n",
       "1          5.0         15.0    878.0    ...               8   \n",
       "2          1.0         21.0    450.0    ...               2   \n",
       "3          5.0         22.0    799.0    ...               1   \n",
       "4          1.0         11.0  40000.0    ...               1   \n",
       "\n",
       "     first_search_date     last_search_date  num_days num_land_page_views  \\\n",
       "0  2015-05-01 06:33:18  2015-05-09 22:21:40         9               147.0   \n",
       "1  2015-05-01 15:48:08  2015-05-15 17:36:01        15              2231.0   \n",
       "2  2015-05-11 21:41:25  2015-05-18 22:21:49         8               105.0   \n",
       "3  2015-05-08 22:38:09  2015-05-08 22:38:09         2                47.0   \n",
       "4  2015-04-27 11:33:25  2015-04-27 11:33:25         2                49.0   \n",
       "\n",
       "  num_phone_req  price_ratio  title_length  price_search  pos_hist  \n",
       "0           0.0     0.058064            50        3000.0  0.037954  \n",
       "1           2.0     0.575951            23        7024.0  0.004846  \n",
       "2           7.0     0.046668            46         900.0  0.050141  \n",
       "3           4.0     0.636833            48         799.0  0.008362  \n",
       "4           2.0     2.722949            20       40000.0  0.004281  \n",
       "\n",
       "[5 rows x 23 columns]"
      ]
     },
     "execution_count": 7,
     "metadata": {},
     "output_type": "execute_result"
    }
   ],
   "source": [
    "# Import new csv that included additional features from SQL queries\n",
    "# so addidional feature engineering can be done\n",
    "df2 = pd.read_csv('../data/processed/avito_train_search_stream_data2.csv')\n",
    "\n",
    "# new feature\n",
    "# get the price ratio per category\n",
    "mean_dict = dict(df2.groupby('category')['price'].mean())\n",
    "def get_ratio(row):\n",
    "    return row['price'] / mean_dict[row['category']]\n",
    "\n",
    "df2['price_ratio'] = df2.apply(get_ratio, axis=1)\n",
    "\n",
    "# new feature\n",
    "# length of title\n",
    "df2['title_length'] = df2['title'].apply(lambda title: len(title))\n",
    "df2.head()\n",
    "\n",
    "# new interaction features (these were added one by one to verify effect)\n",
    "# started with 12 interaction features and narrowed them down to below\n",
    "\n",
    "# interaction between price and num searches\n",
    "df2['price_search'] = df2['price'] * df2['num_searches']\n",
    "\n",
    "# interaction between position and hist\n",
    "df2['pos_hist'] = df2['position'] * df2['hist_ctr']\n",
    "\n",
    "print(df2.shape)\n",
    "df2.head()"
   ]
  },
  {
   "cell_type": "code",
   "execution_count": 14,
   "metadata": {
    "collapsed": true
   },
   "outputs": [],
   "source": [
    "# df2.to_csv('../data/processed/avito_train_search_stream_data3.csv')"
   ]
  },
  {
   "cell_type": "markdown",
   "metadata": {},
   "source": [
    "**CATBoost** \n",
    "* handles One-Hot-Encoding internally, thus data doesn't need to be changed."
   ]
  },
  {
   "cell_type": "code",
   "execution_count": 8,
   "metadata": {},
   "outputs": [
    {
     "name": "stdout",
     "output_type": "stream",
     "text": [
      "CATBoost F1 Score = 0.6714622533534771\n",
      "CATBoost ROC AUC score = 0.7353793701389637\n"
     ]
    }
   ],
   "source": [
    "# select the columns of interest\n",
    "cols = ['category', 'day_of_week', 'hour_of_day', 'region', \n",
    "        'position', 'hist_ctr', 'price', 'num_searches', \n",
    "        'num_days', 'num_land_page_views', 'num_phone_req', \n",
    "        'price_ratio', 'title_length', 'price_search', \n",
    "        'pos_hist']\n",
    "\n",
    "target = 'is_click'\n",
    "\n",
    "X_train_cat, y_train_cat, X_val_cat, y_val_cat, X_test_cat, y_test_cat = split_data(df2, cols, target) \n",
    "    \n",
    "cat_boost = CatBoostClassifier(max_depth=10, verbose=False, eta=0.2)\n",
    "# informing model which columns are categorical\n",
    "cat_features = [0,1,2,3]\n",
    "cat_boost.fit(X_train_cat, y_train_cat, cat_features)\n",
    "\n",
    "y_pred_cat = cat_boost.predict(X_val_cat)\n",
    "f1score_cat = f1_score(y_val_cat, y_pred_cat, average='binary')\n",
    "auc_score_cat = roc_auc_score(y_val_cat, cat_boost.predict_proba(X_val_cat)[:,1])\n",
    "print('CATBoost F1 Score =', f1score_cat)\n",
    "print(\"CATBoost ROC AUC score =\", auc_score_cat)"
   ]
  },
  {
   "cell_type": "markdown",
   "metadata": {},
   "source": [
    "**One-Hot-Encode**  for Random Forest and XGBoost models"
   ]
  },
  {
   "cell_type": "code",
   "execution_count": 9,
   "metadata": {},
   "outputs": [
    {
     "data": {
      "text/html": [
       "<div>\n",
       "<style scoped>\n",
       "    .dataframe tbody tr th:only-of-type {\n",
       "        vertical-align: middle;\n",
       "    }\n",
       "\n",
       "    .dataframe tbody tr th {\n",
       "        vertical-align: top;\n",
       "    }\n",
       "\n",
       "    .dataframe thead th {\n",
       "        text-align: right;\n",
       "    }\n",
       "</style>\n",
       "<table border=\"1\" class=\"dataframe\">\n",
       "  <thead>\n",
       "    <tr style=\"text-align: right;\">\n",
       "      <th></th>\n",
       "      <th>is_click</th>\n",
       "      <th>position</th>\n",
       "      <th>hist_ctr</th>\n",
       "      <th>price</th>\n",
       "      <th>num_searches</th>\n",
       "      <th>num_days</th>\n",
       "      <th>num_land_page_views</th>\n",
       "      <th>num_phone_req</th>\n",
       "      <th>price_ratio</th>\n",
       "      <th>title_length</th>\n",
       "      <th>...</th>\n",
       "      <th>region_77</th>\n",
       "      <th>region_78</th>\n",
       "      <th>region_79</th>\n",
       "      <th>region_8</th>\n",
       "      <th>region_80</th>\n",
       "      <th>region_81</th>\n",
       "      <th>region_82</th>\n",
       "      <th>region_83</th>\n",
       "      <th>region_84</th>\n",
       "      <th>region_9</th>\n",
       "    </tr>\n",
       "  </thead>\n",
       "  <tbody>\n",
       "    <tr>\n",
       "      <th>0</th>\n",
       "      <td>1.0</td>\n",
       "      <td>7.0</td>\n",
       "      <td>0.005422</td>\n",
       "      <td>1000.0</td>\n",
       "      <td>3</td>\n",
       "      <td>9</td>\n",
       "      <td>147.0</td>\n",
       "      <td>0.0</td>\n",
       "      <td>0.058064</td>\n",
       "      <td>50</td>\n",
       "      <td>...</td>\n",
       "      <td>0</td>\n",
       "      <td>0</td>\n",
       "      <td>0</td>\n",
       "      <td>0</td>\n",
       "      <td>0</td>\n",
       "      <td>0</td>\n",
       "      <td>0</td>\n",
       "      <td>0</td>\n",
       "      <td>0</td>\n",
       "      <td>1</td>\n",
       "    </tr>\n",
       "    <tr>\n",
       "      <th>1</th>\n",
       "      <td>1.0</td>\n",
       "      <td>1.0</td>\n",
       "      <td>0.004846</td>\n",
       "      <td>878.0</td>\n",
       "      <td>8</td>\n",
       "      <td>15</td>\n",
       "      <td>2231.0</td>\n",
       "      <td>2.0</td>\n",
       "      <td>0.575951</td>\n",
       "      <td>23</td>\n",
       "      <td>...</td>\n",
       "      <td>0</td>\n",
       "      <td>0</td>\n",
       "      <td>0</td>\n",
       "      <td>0</td>\n",
       "      <td>0</td>\n",
       "      <td>0</td>\n",
       "      <td>0</td>\n",
       "      <td>0</td>\n",
       "      <td>0</td>\n",
       "      <td>0</td>\n",
       "    </tr>\n",
       "    <tr>\n",
       "      <th>2</th>\n",
       "      <td>1.0</td>\n",
       "      <td>7.0</td>\n",
       "      <td>0.007163</td>\n",
       "      <td>450.0</td>\n",
       "      <td>2</td>\n",
       "      <td>8</td>\n",
       "      <td>105.0</td>\n",
       "      <td>7.0</td>\n",
       "      <td>0.046668</td>\n",
       "      <td>46</td>\n",
       "      <td>...</td>\n",
       "      <td>0</td>\n",
       "      <td>0</td>\n",
       "      <td>0</td>\n",
       "      <td>0</td>\n",
       "      <td>0</td>\n",
       "      <td>0</td>\n",
       "      <td>0</td>\n",
       "      <td>0</td>\n",
       "      <td>0</td>\n",
       "      <td>0</td>\n",
       "    </tr>\n",
       "    <tr>\n",
       "      <th>3</th>\n",
       "      <td>0.0</td>\n",
       "      <td>1.0</td>\n",
       "      <td>0.008362</td>\n",
       "      <td>799.0</td>\n",
       "      <td>1</td>\n",
       "      <td>2</td>\n",
       "      <td>47.0</td>\n",
       "      <td>4.0</td>\n",
       "      <td>0.636833</td>\n",
       "      <td>48</td>\n",
       "      <td>...</td>\n",
       "      <td>0</td>\n",
       "      <td>0</td>\n",
       "      <td>0</td>\n",
       "      <td>0</td>\n",
       "      <td>0</td>\n",
       "      <td>0</td>\n",
       "      <td>0</td>\n",
       "      <td>0</td>\n",
       "      <td>0</td>\n",
       "      <td>0</td>\n",
       "    </tr>\n",
       "    <tr>\n",
       "      <th>4</th>\n",
       "      <td>1.0</td>\n",
       "      <td>1.0</td>\n",
       "      <td>0.004281</td>\n",
       "      <td>40000.0</td>\n",
       "      <td>1</td>\n",
       "      <td>2</td>\n",
       "      <td>49.0</td>\n",
       "      <td>2.0</td>\n",
       "      <td>2.722949</td>\n",
       "      <td>20</td>\n",
       "      <td>...</td>\n",
       "      <td>0</td>\n",
       "      <td>0</td>\n",
       "      <td>0</td>\n",
       "      <td>0</td>\n",
       "      <td>0</td>\n",
       "      <td>0</td>\n",
       "      <td>0</td>\n",
       "      <td>0</td>\n",
       "      <td>0</td>\n",
       "      <td>0</td>\n",
       "    </tr>\n",
       "  </tbody>\n",
       "</table>\n",
       "<p>5 rows × 153 columns</p>\n",
       "</div>"
      ],
      "text/plain": [
       "   is_click  position  hist_ctr    price  num_searches  num_days  \\\n",
       "0       1.0       7.0  0.005422   1000.0             3         9   \n",
       "1       1.0       1.0  0.004846    878.0             8        15   \n",
       "2       1.0       7.0  0.007163    450.0             2         8   \n",
       "3       0.0       1.0  0.008362    799.0             1         2   \n",
       "4       1.0       1.0  0.004281  40000.0             1         2   \n",
       "\n",
       "   num_land_page_views  num_phone_req  price_ratio  title_length    ...     \\\n",
       "0                147.0            0.0     0.058064            50    ...      \n",
       "1               2231.0            2.0     0.575951            23    ...      \n",
       "2                105.0            7.0     0.046668            46    ...      \n",
       "3                 47.0            4.0     0.636833            48    ...      \n",
       "4                 49.0            2.0     2.722949            20    ...      \n",
       "\n",
       "   region_77  region_78  region_79  region_8  region_80  region_81  region_82  \\\n",
       "0          0          0          0         0          0          0          0   \n",
       "1          0          0          0         0          0          0          0   \n",
       "2          0          0          0         0          0          0          0   \n",
       "3          0          0          0         0          0          0          0   \n",
       "4          0          0          0         0          0          0          0   \n",
       "\n",
       "   region_83  region_84  region_9  \n",
       "0          0          0         1  \n",
       "1          0          0         0  \n",
       "2          0          0         0  \n",
       "3          0          0         0  \n",
       "4          0          0         0  \n",
       "\n",
       "[5 rows x 153 columns]"
      ]
     },
     "execution_count": 9,
     "metadata": {},
     "output_type": "execute_result"
    }
   ],
   "source": [
    "# One-Hot-Encode for Random Forest and XGBoost\n",
    "df2['category'] = df2['category'].apply(lambda x: str(int(x)))\n",
    "df2['day_of_week'] = df2['day_of_week'].apply(lambda x: str(int(x)))\n",
    "df2['hour_of_day'] = df2['hour_of_day'].apply(lambda x: str(int(x)))\n",
    "df2['region'] = df2['region'].apply(lambda x: str(int(x)))\n",
    "\n",
    "cols = ['is_click', 'position', 'hist_ctr', 'price', \n",
    "        'num_searches', 'num_days', 'num_land_page_views', \n",
    "        'num_phone_req', 'price_ratio', 'title_length', \n",
    "        'price_search', 'pos_hist']\n",
    "\n",
    "one_hot = pd.get_dummies(df2[['category', 'day_of_week', 'hour_of_day', 'region']], drop_first=True)\n",
    "one_hot_df = df2[cols].join(one_hot)\n",
    "one_hot_df.head()"
   ]
  },
  {
   "cell_type": "markdown",
   "metadata": {},
   "source": [
    "**Random Forest** and **XGBoost**"
   ]
  },
  {
   "cell_type": "code",
   "execution_count": 10,
   "metadata": {},
   "outputs": [
    {
     "name": "stdout",
     "output_type": "stream",
     "text": [
      "random-forest F1 Score = 0.66999\n",
      "random-forest ROC AUC score = 0.73777\n",
      "xg-boost F1 Score = 0.67702\n",
      "xg-boost ROC AUC score = 0.74135\n"
     ]
    }
   ],
   "source": [
    "# split One-Hot-Encode dataset for Random Forest and XGBoost\n",
    "cols = list(one_hot_df.columns)[1:]\n",
    "target = 'is_click'\n",
    "X_train, y_train, X_val, y_val, X_test, y_test = split_data(one_hot_df, cols, target) \n",
    "\n",
    "# retrain data on new dataset that includes additional features\n",
    "# some parameter tuning \n",
    "model_dict = {\n",
    "    \"random-forest\": ensemble.RandomForestClassifier(n_estimators=100),\n",
    "    \"xg-boost\": XGBClassifier(max_depth=10, gamma= 0.8, eta=0.2, \n",
    "                              nthread=6, min_child_weight=4),\n",
    "}\n",
    "\n",
    "for model_key in model_dict:  \n",
    "    \n",
    "    # create a model, fit, train, predict \n",
    "    model = model_dict[model_key]\n",
    "    model.fit(X_train, y_train)    \n",
    "    y_pred = model.predict(X_val)\n",
    "    f1score = f1_score(y_val, y_pred, average='binary')\n",
    "    auc_score = roc_auc_score(y_val, model.predict_proba(X_val)[:,1])\n",
    "    print(f'{model_key} F1 Score =', round(f1score, 5))\n",
    "    print(f\"{model_key} ROC AUC score =\", round(auc_score, 5))"
   ]
  },
  {
   "cell_type": "markdown",
   "metadata": {},
   "source": [
    "## Random Search CV -> Grid Search CV -> On Subset due to time constraints"
   ]
  },
  {
   "cell_type": "markdown",
   "metadata": {},
   "source": [
    "**Random Forest CV**"
   ]
  },
  {
   "cell_type": "code",
   "execution_count": 11,
   "metadata": {},
   "outputs": [
    {
     "name": "stdout",
     "output_type": "stream",
     "text": [
      "Fitting 3 folds for each of 100 candidates, totalling 300 fits\n"
     ]
    },
    {
     "name": "stderr",
     "output_type": "stream",
     "text": [
      "[Parallel(n_jobs=-1)]: Using backend LokyBackend with 8 concurrent workers.\n",
      "[Parallel(n_jobs=-1)]: Done  25 tasks      | elapsed:   28.6s\n",
      "/Users/maileivargas/anaconda3/lib/python3.6/site-packages/sklearn/externals/joblib/externals/loky/process_executor.py:706: UserWarning: A worker stopped while some jobs were given to the executor. This can be caused by a too short worker timeout or by a memory leak.\n",
      "  \"timeout or by a memory leak.\", UserWarning\n",
      "[Parallel(n_jobs=-1)]: Done 146 tasks      | elapsed:  2.7min\n",
      "[Parallel(n_jobs=-1)]: Done 300 out of 300 | elapsed:  6.4min finished\n"
     ]
    },
    {
     "data": {
      "text/plain": [
       "{'bootstrap': False,\n",
       " 'max_depth': 50,\n",
       " 'max_features': 'auto',\n",
       " 'min_samples_leaf': 5,\n",
       " 'min_samples_split': 10,\n",
       " 'n_estimators': 100}"
      ]
     },
     "execution_count": 11,
     "metadata": {},
     "output_type": "execute_result"
    }
   ],
   "source": [
    "# main code found from: \n",
    "# https://towardsdatascience.com/hyperparameter-tuning-the-random-forest-in-python-using-scikit-learn-28d2aa77dd74\n",
    "\n",
    "# Number of trees in random forest\n",
    "n_estimators = [100, 500, 1000]\n",
    "# Number of features to consider at every split\n",
    "max_features = ['auto', 'sqrt']\n",
    "# Maximum number of levels in tree\n",
    "max_depth = [2, 10, 20, 50, None]\n",
    "# Minimum number of samples required to split a node\n",
    "min_samples_split = [2, 5, 10]\n",
    "# Minimum number of samples required at each leaf node\n",
    "min_samples_leaf = [2, 4, 6, 10]\n",
    "# Method of selecting samples for training each tree\n",
    "bootstrap = [True, False]\n",
    "\n",
    "random_grid = {'bootstrap': bootstrap,\n",
    "                 'max_depth': max_depth,\n",
    "                 'max_features': max_features,\n",
    "                 'min_samples_leaf': min_samples_split,\n",
    "                 'min_samples_split': min_samples_leaf, \n",
    "                 'n_estimators': n_estimators\n",
    "                }\n",
    "\n",
    "# Use the random grid to search for best hyperparameters\n",
    "# First create the base model to tune\n",
    "rf = ensemble.RandomForestClassifier()\n",
    "# Random search of parameters, using 3 fold cross validation, \n",
    "# search across 100 different combinations, and use all available cores\n",
    "rf_random = RandomizedSearchCV(estimator = rf, \n",
    "                               param_distributions = random_grid, \n",
    "                               n_iter = 100, \n",
    "                               cv = 3, \n",
    "                               verbose=2, \n",
    "                               random_state=42, \n",
    "                               n_jobs = -1)\n",
    "\n",
    "# Fit the random search model\n",
    "# smaller sample of the training set to speed up process\n",
    "rf_random.fit(X_train[:10000], y_train[:10000]) \n",
    "\n",
    "# get result of random cv\n",
    "rf_best_params = rf_random.best_params_\n",
    "rf_best_params"
   ]
  },
  {
   "cell_type": "code",
   "execution_count": 12,
   "metadata": {},
   "outputs": [
    {
     "name": "stdout",
     "output_type": "stream",
     "text": [
      "Fitting 3 folds for each of 8 candidates, totalling 24 fits\n"
     ]
    },
    {
     "name": "stderr",
     "output_type": "stream",
     "text": [
      "[Parallel(n_jobs=-1)]: Using backend LokyBackend with 8 concurrent workers.\n",
      "[Parallel(n_jobs=-1)]: Done  22 out of  24 | elapsed:  5.1min remaining:   27.6s\n",
      "[Parallel(n_jobs=-1)]: Done  24 out of  24 | elapsed:  5.1min finished\n"
     ]
    },
    {
     "name": "stdout",
     "output_type": "stream",
     "text": [
      "Best parameters:\n",
      "{'bootstrap': False, 'max_depth': 20, 'max_features': 'sqrt', 'min_samples_leaf': 3, 'min_samples_split': 4, 'n_estimators': 500}\n",
      "Random Forest w/Grid Search F1 Score = 0.6711\n",
      "Random Forest w/Grid Search ROC AUC score = 0.72695\n"
     ]
    }
   ],
   "source": [
    "# Create the parameter grid based on the results of random search \n",
    "rf_param_grid = {'bootstrap': [False],\n",
    "                'max_depth': [15, 20],\n",
    "                'max_features': ['sqrt'],\n",
    "                'min_samples_leaf': [2, 3],\n",
    "                'min_samples_split': [4, 6],\n",
    "                'n_estimators': [500]\n",
    "            }  # 16 combinations\n",
    "\n",
    "# Instantiate the grid search model\n",
    "rf_grid_search = GridSearchCV(estimator = rf, \n",
    "                               param_grid = rf_param_grid, \n",
    "                               cv = 3, \n",
    "                               n_jobs = -1, \n",
    "                               verbose = 2)\n",
    "\n",
    "# Fit the grid search to the data\n",
    "rf_grid_search.fit(X_train[:50000], y_train[:50000])\n",
    "print('Best parameters:')\n",
    "print(rf_grid_search.best_params_)\n",
    "\n",
    "best_rf = rf_grid_search.best_estimator_\n",
    "y_pred_rf = best_rf.predict(X_val[:50000])\n",
    "f1score_rf = f1_score(y_val[:50000], y_pred_rf, average='binary')\n",
    "auc_score_rf = roc_auc_score(y_val[:50000], best_rf.predict_proba(X_val[:50000])[:,1])\n",
    "print('Random Forest w/Grid Search F1 Score =', round(f1score_rf, 5))\n",
    "print(\"Random Forest w/Grid Search ROC AUC score =\", round(auc_score_rf, 5))"
   ]
  },
  {
   "cell_type": "markdown",
   "metadata": {},
   "source": [
    "**XGBoost CV**"
   ]
  },
  {
   "cell_type": "code",
   "execution_count": 13,
   "metadata": {},
   "outputs": [
    {
     "name": "stdout",
     "output_type": "stream",
     "text": [
      "Fitting 3 folds for each of 100 candidates, totalling 300 fits\n"
     ]
    },
    {
     "name": "stderr",
     "output_type": "stream",
     "text": [
      "[Parallel(n_jobs=-1)]: Using backend LokyBackend with 8 concurrent workers.\n",
      "[Parallel(n_jobs=-1)]: Done  25 tasks      | elapsed:  1.6min\n",
      "[Parallel(n_jobs=-1)]: Done 146 tasks      | elapsed:  7.1min\n",
      "[Parallel(n_jobs=-1)]: Done 300 out of 300 | elapsed: 14.4min finished\n"
     ]
    },
    {
     "data": {
      "text/plain": [
       "{'colsample_bylevel': 0.2,\n",
       " 'colsample_bytree': 1,\n",
       " 'gamma': 0.2,\n",
       " 'learning_rate': 0.2,\n",
       " 'max_depth': 2,\n",
       " 'min_child_weight': 4,\n",
       " 'n_estimators': 100,\n",
       " 'n_jobs': 4}"
      ]
     },
     "execution_count": 13,
     "metadata": {},
     "output_type": "execute_result"
    }
   ],
   "source": [
    "# main code found from: \n",
    "# https://towardsdatascience.com/hyperparameter-tuning-the-random-forest-in-python-using-scikit-learn-28d2aa77dd74\n",
    "\n",
    "# Number of trees in random forest\n",
    "n_estimators = [100, 500, 1000]\n",
    "# Maximum number of levels in tree\n",
    "max_depth = [2, 10, 20, 50]\n",
    "# Subsample ratio of columns when constructing each tree\n",
    "colsample_bytree = [0.2, 0.5, 1]\n",
    "# Subsample ratio of columns for each split, in each level\n",
    "colsample_bylevel = [0.2, 0.5, 1]\n",
    "# Minimum loss reduction required to make a further partition on a leaf node of the tree\n",
    "gamma = [0.2, 0.4]\n",
    "# Boosting learning rate (xgb's \"eta\")\n",
    "learning_rate = [0.2, 0.4]\n",
    "# Number of parallel threads used to run xgboost\n",
    "n_jobs = [4, 6, 10]\n",
    "# Minimum sum of instance weight(hessian) needed in a child\n",
    "min_child_weight = [4, 6, 10]\n",
    "\n",
    "xg_random_grid = {'n_estimators': n_estimators,\n",
    "                    'max_depth': max_depth,\n",
    "                    'colsample_bytree': colsample_bytree,\n",
    "                    'colsample_bylevel': colsample_bylevel,\n",
    "                    'gamma': gamma, \n",
    "                    'learning_rate': learning_rate,\n",
    "                    'n_jobs': n_jobs,\n",
    "                    'min_child_weight': min_child_weight\n",
    "                }\n",
    "\n",
    "# Use the random grid to search for best hyperparameters\n",
    "# First create the base model to tune\n",
    "xg = XGBClassifier()\n",
    "# Random search of parameters, using 3 fold cross validation, \n",
    "# search across 100 different combinations, and use all available cores\n",
    "xg_random = RandomizedSearchCV(estimator = xg, \n",
    "                               param_distributions = xg_random_grid, \n",
    "                               n_iter = 100, \n",
    "                               cv = 3, \n",
    "                               verbose=2, \n",
    "                               random_state=42, \n",
    "                               n_jobs = -1)\n",
    "# Fit the random search model\n",
    "xg_random.fit(X_train[:5000], y_train[:5000])\n",
    "\n",
    "# get result of random cv\n",
    "xg_best_params = xg_random.best_params_\n",
    "xg_best_params"
   ]
  },
  {
   "cell_type": "code",
   "execution_count": 14,
   "metadata": {},
   "outputs": [
    {
     "name": "stdout",
     "output_type": "stream",
     "text": [
      "Fitting 3 folds for each of 32 candidates, totalling 96 fits\n"
     ]
    },
    {
     "name": "stderr",
     "output_type": "stream",
     "text": [
      "[Parallel(n_jobs=-1)]: Using backend LokyBackend with 8 concurrent workers.\n",
      "[Parallel(n_jobs=-1)]: Done  25 tasks      | elapsed:  1.4min\n",
      "[Parallel(n_jobs=-1)]: Done  96 out of  96 | elapsed:  4.4min finished\n"
     ]
    },
    {
     "name": "stdout",
     "output_type": "stream",
     "text": [
      "Best parameters:\n",
      "{'colsample_bylevel': 0.2, 'colsample_bytree': 1, 'gamma': 0.1, 'learning_rate': 0.2, 'max_depth': 3, 'min_child_weight': 4, 'n_estimators': 100, 'n_jobs': 2}\n",
      "XGBoost w/Grid Search F1 Score = 0.67158\n",
      "XGBoost w/Grid Search ROC AUC score = 0.72555\n"
     ]
    }
   ],
   "source": [
    "# Create the parameter grid based on the results of random search \n",
    "xg_param_grid = {'colsample_bylevel': [0.1, 0.2],\n",
    "                 'colsample_bytree': [1],\n",
    "                 'gamma': [0.1, 0.2],\n",
    "                 'learning_rate': [0.1, 0.2],\n",
    "                 'max_depth': [2, 3],\n",
    "                 'min_child_weight': [4],\n",
    "                 'n_estimators': [100],\n",
    "                 'n_jobs': [2, 4]\n",
    "            }  # 32 combinations\n",
    "\n",
    "# Instantiate the grid search model\n",
    "xg_grid_search = GridSearchCV(estimator = xg, \n",
    "                               param_grid = xg_param_grid, \n",
    "                               cv = 3, \n",
    "                               n_jobs = -1, \n",
    "                               verbose = 2)\n",
    "\n",
    "# Fit the grid search to the data\n",
    "xg_grid_search.fit(X_train[:50000], y_train[:50000])\n",
    "print('Best parameters:')\n",
    "print(xg_grid_search.best_params_)\n",
    "\n",
    "best_xg = xg_grid_search.best_estimator_\n",
    "y_pred_xg = best_xg.predict(X_val[:50000])\n",
    "f1score_xg = f1_score(y_val[:50000], y_pred_xg, average='binary')\n",
    "auc_score_xg = roc_auc_score(y_val[:50000], best_xg.predict_proba(X_val[:50000])[:,1])\n",
    "print('XGBoost w/Grid Search F1 Score =', round(f1score_xg, 5))\n",
    "print(\"XGBoost w/Grid Search ROC AUC score =\", round(auc_score_xg, 5))"
   ]
  },
  {
   "cell_type": "markdown",
   "metadata": {},
   "source": [
    "### Final Training \n",
    "with the GridSearch Parameters"
   ]
  },
  {
   "cell_type": "code",
   "execution_count": 15,
   "metadata": {},
   "outputs": [
    {
     "data": {
      "text/plain": [
       "0.0    100000\n",
       "1.0      2000\n",
       "Name: is_click, dtype: int64"
      ]
     },
     "execution_count": 15,
     "metadata": {},
     "output_type": "execute_result"
    }
   ],
   "source": [
    "unbalanced_y_test = (y_test[y_test == 1].sample(2000)\n",
    "                     .append(y_test[y_test == 0].sample(100000))\n",
    "                     .sort_index())\n",
    "unbalanced_X_test = (X_test[X_test.index.isin(unbalanced_y_test.index)]\n",
    "                     .sort_index())\n",
    "\n",
    "unbalanced_y_test.value_counts()"
   ]
  },
  {
   "cell_type": "markdown",
   "metadata": {},
   "source": [
    "**Random Forest Test**"
   ]
  },
  {
   "cell_type": "code",
   "execution_count": 17,
   "metadata": {},
   "outputs": [
    {
     "name": "stdout",
     "output_type": "stream",
     "text": [
      "Random Forest Test balanced F1 Score = 0.67174\n",
      "Random Forest Test balanced ROC AUC score = 0.73357\n",
      "Random Forest Test UNbalanced F1 Score = 0.07185\n",
      "Random Forest Test UNbalanced ROC AUC score = 0.72794\n"
     ]
    }
   ],
   "source": [
    "# train data with hyperparameters for Random Forest\n",
    "final_rf_model = ensemble.RandomForestClassifier(**rf_grid_search.best_params_)\n",
    "\n",
    "# create a model, fit, train, predict \n",
    "final_rf_model.fit(X_train, y_train)  \n",
    "\n",
    "# on balanced test data\n",
    "rf_pred_final = final_rf_model.predict(X_test)\n",
    "rf_final_f1score = f1_score(y_test, rf_pred_final, average='binary')\n",
    "rf_final_auc_score = roc_auc_score(y_test, final_rf_model.predict_proba(X_test)[:,1])\n",
    "print('Random Forest Test balanced F1 Score =', round(rf_final_f1score, 5))\n",
    "print('Random Forest Test balanced ROC AUC score =', round(rf_final_auc_score, 5))\n",
    "\n",
    "# on unbalanced test data\n",
    "rf_pred_final_un = final_rf_model.predict(unbalanced_X_test)\n",
    "rf_final_f1score_un = f1_score(unbalanced_y_test, rf_pred_final_un, average='binary')\n",
    "rf_final_auc_score_un = roc_auc_score(unbalanced_y_test, \n",
    "                                      final_rf_model.predict_proba(unbalanced_X_test)[:,1])\n",
    "print('Random Forest Test UNbalanced F1 Score =', round(rf_final_f1score_un, 5))\n",
    "print('Random Forest Test UNbalanced ROC AUC score =', round(rf_final_auc_score_un, 5))"
   ]
  },
  {
   "cell_type": "markdown",
   "metadata": {},
   "source": [
    "**XGBoost Test**"
   ]
  },
  {
   "cell_type": "code",
   "execution_count": 18,
   "metadata": {},
   "outputs": [
    {
     "name": "stdout",
     "output_type": "stream",
     "text": [
      "XGBoost Test balanced F1 Score = 0.66721\n",
      "XGBoost Test balanced ROC AUC score = 0.72324\n",
      "XGBoost Test UNbalanced F1 Score = 0.06984\n",
      "XGBoost Test UNbalanced ROC AUC score = 0.71861\n"
     ]
    }
   ],
   "source": [
    "# train data with hyperparameters for XGBoost\n",
    "final_xg_model = XGBClassifier(**xg_grid_search.best_params_)\n",
    "\n",
    "# create a model, fit, train, predict \n",
    "final_xg_model.fit(X_train, y_train)  \n",
    "\n",
    "# on balanced test data\n",
    "xg_pred_final = final_xg_model.predict(X_test)\n",
    "xg_final_f1score = f1_score(y_test, xg_pred_final, average='binary')\n",
    "xg_final_auc_score = roc_auc_score(y_test, final_xg_model.predict_proba(X_test)[:,1])\n",
    "print('XGBoost Test balanced F1 Score =', round(xg_final_f1score, 5))\n",
    "print('XGBoost Test balanced ROC AUC score =', round(xg_final_auc_score, 5))\n",
    "# XGBoost Test F1 Score = 0.66721\n",
    "# XGBoost Test ROC AUC score = 0.72324\n",
    "\n",
    "# on unbalanced test data\n",
    "xg_pred_final_un = final_xg_model.predict(unbalanced_X_test)\n",
    "xg_final_f1score_un = f1_score(unbalanced_y_test, xg_pred_final_un, average='binary')\n",
    "xg_final_auc_score_un = roc_auc_score(unbalanced_y_test, \n",
    "                                      final_xg_model.predict_proba(unbalanced_X_test)[:,1])\n",
    "print('XGBoost Test UNbalanced F1 Score =', round(xg_final_f1score_un, 5))\n",
    "print('XGBoost Test UNbalanced ROC AUC score =', round(xg_final_auc_score_un, 5))"
   ]
  },
  {
   "cell_type": "markdown",
   "metadata": {},
   "source": [
    "**CATBoost Test**"
   ]
  },
  {
   "cell_type": "code",
   "execution_count": 19,
   "metadata": {},
   "outputs": [
    {
     "data": {
      "text/plain": [
       "0.0    100000\n",
       "1.0      2000\n",
       "Name: is_click, dtype: int64"
      ]
     },
     "execution_count": 19,
     "metadata": {},
     "output_type": "execute_result"
    }
   ],
   "source": [
    "unbalanced_y_test_cat = (y_test_cat[y_test_cat == 1].sample(2000)\n",
    "                         .append(y_test_cat[y_test_cat == 0].sample(100000))\n",
    "                         .sort_index())\n",
    "unbalanced_X_test_cat = (X_test_cat[X_test_cat.index.isin(unbalanced_y_test_cat.index)]\n",
    "                         .sort_index())\n",
    "unbalanced_y_test_cat.value_counts()"
   ]
  },
  {
   "cell_type": "code",
   "execution_count": 20,
   "metadata": {},
   "outputs": [
    {
     "name": "stdout",
     "output_type": "stream",
     "text": [
      "CATBoost balanced F1 Score = 0.6736122222273015\n",
      "CATBoost balanced ROC AUC score = 0.7377021300430245\n",
      "CATBoost UNbalanced F1 Score = 0.07261782092304354\n",
      "CATBoost UNbalanced ROC AUC score = 0.7314907625\n"
     ]
    }
   ],
   "source": [
    "cat_boost = CatBoostClassifier(max_depth=10, \n",
    "                               verbose=False, \n",
    "                               eta=0.2, \n",
    "                               n_estimators=500, \n",
    "                               colsample_bylevel=0.2)\n",
    "\n",
    "# informing model which columns are categorical\n",
    "cat_features = [0,1,2,3]\n",
    "cat_boost.fit(X_train_cat, y_train_cat, cat_features)\n",
    "\n",
    "# on balanced test data\n",
    "y_pred_cat = cat_boost.predict(X_test_cat)\n",
    "f1score_cat = f1_score(y_test_cat, y_pred_cat, average='binary')\n",
    "auc_score_cat = roc_auc_score(y_test_cat, cat_boost.predict_proba(X_test_cat)[:,1])\n",
    "print('CATBoost balanced F1 Score =', f1score_cat)\n",
    "print(\"CATBoost balanced ROC AUC score =\", auc_score_cat)\n",
    "\n",
    "# on UNbalanced test data\n",
    "y_pred_cat_un = cat_boost.predict(unbalanced_X_test_cat)\n",
    "f1score_cat_un= f1_score(unbalanced_y_test_cat, y_pred_cat_un, average='binary')\n",
    "auc_score_cat_un = roc_auc_score(unbalanced_y_test_cat, \n",
    "                                  cat_boost.predict_proba(unbalanced_X_test_cat)[:,1])\n",
    "print('CATBoost UNbalanced F1 Score =', f1score_cat_un)\n",
    "print(\"CATBoost UNbalanced ROC AUC score =\", auc_score_cat_un)"
   ]
  },
  {
   "cell_type": "markdown",
   "metadata": {
    "collapsed": true
   },
   "source": [
    "## Visualize Results"
   ]
  },
  {
   "cell_type": "markdown",
   "metadata": {},
   "source": [
    "### ROC Curves"
   ]
  },
  {
   "cell_type": "code",
   "execution_count": null,
   "metadata": {
    "collapsed": true
   },
   "outputs": [],
   "source": [
    "# create a ROC AUC graph for best performing model \n",
    "rf_probs = final_rf_model.predict_proba(X_test)[:,1]\n",
    "xg_probs = final_xg_model.predict_proba(X_test)[:,1]\n",
    "cat_probs = cat_boost.predict_proba(X_test_cat)[:,1]\n",
    "\n",
    "rf_fpr, rf_tpr, _ = roc_curve(y_test, rf_probs)         # Random Forest\n",
    "xg_fpr, xg_tpr, _ = roc_curve(y_test, xg_probs)         # XGBoost\n",
    "cat_fpr, cat_tpr, _ = roc_curve(y_test_cat, cat_probs)  # CATBoost"
   ]
  },
  {
   "cell_type": "code",
   "execution_count": 90,
   "metadata": {},
   "outputs": [
    {
     "data": {
      "image/png": "[encoded data removed]",
      "text/plain": [
       "<Figure size 720x360 with 1 Axes>"
      ]
     },
     "metadata": {},
     "output_type": "display_data"
    }
   ],
   "source": [
    "plt.figure(figsize=(10,5))\n",
    "# plt.subplot(1, 2, 2)\n",
    "plt.plot(rf_fpr, rf_tpr, lw=2)\n",
    "plt.plot(xg_fpr, xg_tpr, lw=2)\n",
    "plt.plot(cat_fpr, cat_tpr, lw=2)\n",
    "plt.plot([0,1],[0,1], c='violet', ls='--')\n",
    "plt.xlim([-0.05,1.05])\n",
    "plt.ylim([-0.05,1.05])\n",
    "plt.xlabel('False positive rate', size=15)\n",
    "plt.ylabel('True positive rate', size=15)\n",
    "plt.title('ROC Curves on Test Set for Three Models')\n",
    "plt.legend([f'Random Forest AUC = {round(rf_final_auc_score,3)}', \n",
    "            f'XGBoost AUC = {round(xg_final_auc_score,3)}', \n",
    "            f'CATBoost AUC = {round(auc_score_cat,3)}']);\n",
    "# print(\"Random Forest ROC AUC score =\", rf_final_auc_score)"
   ]
  },
  {
   "cell_type": "code",
   "execution_count": 91,
   "metadata": {},
   "outputs": [
    {
     "data": {
      "image/png": "[encoded data removed]",
      "text/plain": [
       "<Figure size 432x288 with 1 Axes>"
      ]
     },
     "metadata": {},
     "output_type": "display_data"
    }
   ],
   "source": [
    "plt.plot(rf_fpr, rf_tpr, lw=2)\n",
    "plt.plot(xg_fpr, xg_tpr, lw=2)\n",
    "plt.plot(cat_fpr, cat_tpr, lw=2)\n",
    "plt.plot([0,1],[0,1], c='violet', ls='--')\n",
    "plt.xlim([-0.05,1.05])\n",
    "plt.ylim([-0.05,1.05])\n",
    "plt.xlabel('False positive rate', size=15)\n",
    "plt.ylabel('True positive rate', size=15)\n",
    "plt.title('ROC Curves on Test Set for Three Models')\n",
    "plt.legend([f'Random Forest AUC = {round(rf_final_auc_score,3)}', \n",
    "            f'XGBoost AUC = {round(xg_final_auc_score,3)}', \n",
    "            f'CATBoost AUC = {round(auc_score_cat,3)}']);\n",
    "plt.axis([0.1, 0.4, 0.2, 0.6]);"
   ]
  },
  {
   "cell_type": "markdown",
   "metadata": {},
   "source": [
    "### Confusion Matrix for best performing model \n",
    "* (balanced and unbalanced)"
   ]
  },
  {
   "cell_type": "code",
   "execution_count": 74,
   "metadata": {},
   "outputs": [
    {
     "name": "stdout",
     "output_type": "stream",
     "text": [
      "CAT-Boost Confusion Matrix (balanced test). F1 Score = 0.6736122222273015\n",
      "CAT-Boost Confusion Matrix (unbalanced test). F1 Score = 0.07621678719427967\n"
     ]
    },
    {
     "data": {
      "image/png": "[encoded data removed]",
      "text/plain": [
       "<Figure size 360x288 with 2 Axes>"
      ]
     },
     "metadata": {},
     "output_type": "display_data"
    },
    {
     "data": {
      "image/png": "[encoded data removed]",
      "text/plain": [
       "<Figure size 360x288 with 2 Axes>"
      ]
     },
     "metadata": {},
     "output_type": "display_data"
    }
   ],
   "source": [
    "# create a confusion matrix for best performing model (Balanced)\n",
    "print(f'CAT-Boost Confusion Matrix (balanced test). F1 Score = {f1score_cat}')\n",
    "cat_conf_mat = confusion_matrix(y_true=y_test_cat, y_pred=y_pred_cat)\n",
    "cm = print_confusion_matrix(cat_conf_mat, ['Class 0', 'Class 1'], figsize=(5, 4), fontsize=15);\n",
    "\n",
    "print(f'CAT-Boost Confusion Matrix (unbalanced test). F1 Score = {f1score_cat_un}')\n",
    "# create a confusion matrix for best performing model (unbalanced)\n",
    "cat_un_conf_mat = confusion_matrix(y_true=unbalanced_y_test_cat, y_pred=y_pred_cat_un)\n",
    "cm = print_confusion_matrix(cat_un_conf_mat, ['Class 0', 'Class 1'], figsize=(5, 4), fontsize=15);"
   ]
  },
  {
   "cell_type": "markdown",
   "metadata": {},
   "source": [
    "### Learning Curves"
   ]
  },
  {
   "cell_type": "code",
   "execution_count": 26,
   "metadata": {},
   "outputs": [],
   "source": [
    "from sklearn.model_selection import learning_curve\n",
    "\n",
    "def plot_learning_curve(estimator, title, X, y, ylim=None, cv=None,\n",
    "                        n_jobs=None, train_sizes=np.linspace(.1, 1.0, 5)):\n",
    "    \n",
    "    plt.figure(figsize=(8,5))\n",
    "    plt.title(title, size=20)\n",
    "    if ylim is not None:\n",
    "        plt.ylim(*ylim)\n",
    "    plt.xlabel(\"Training examples\", size=15)\n",
    "    plt.ylabel(\"F1 Score\", size=15)\n",
    "    train_sizes, train_scores, test_scores = learning_curve(estimator, X, y, \n",
    "                                                            cv=cv, scoring='f1', \n",
    "                                                            n_jobs=n_jobs, \n",
    "                                                            train_sizes=train_sizes)\n",
    "    train_scores_mean = np.mean(train_scores, axis=1)\n",
    "    train_scores_std = np.std(train_scores, axis=1)\n",
    "    test_scores_mean = np.mean(test_scores, axis=1)\n",
    "    test_scores_std = np.std(test_scores, axis=1)\n",
    "#     plt.grid()\n",
    "\n",
    "    plt.fill_between(train_sizes, train_scores_mean - train_scores_std,\n",
    "                     train_scores_mean + train_scores_std, alpha=0.1,\n",
    "                     color=\"dodgerblue\", label='Train Std Dev')\n",
    "    plt.fill_between(train_sizes, test_scores_mean - test_scores_std,\n",
    "                     test_scores_mean + test_scores_std, alpha=0.1, \n",
    "                     color=\"darkviolet\", label='Validation Std Dev')\n",
    "    plt.plot(train_sizes, train_scores_mean, 'o-', color=\"dodgerblue\",\n",
    "             label=\"Training score\")\n",
    "    plt.plot(train_sizes, test_scores_mean, 'o-', color=\"darkviolet\",\n",
    "             label=\"Cross-validation score\")\n",
    "    plt.plot(100000, xg_final_f1score, marker='*', markersize=15, \n",
    "             color='k', label='Model Score')\n",
    "\n",
    "    plt.legend(loc=\"best\")\n",
    "    return plt"
   ]
  },
  {
   "cell_type": "code",
   "execution_count": 27,
   "metadata": {},
   "outputs": [
    {
     "data": {
      "image/png": "[encoded data removed]",
      "text/plain": [
       "<Figure size 576x360 with 1 Axes>"
      ]
     },
     "metadata": {},
     "output_type": "display_data"
    }
   ],
   "source": [
    "title = 'Learning Curves (XGBoost)'\n",
    "# final_xg_model.fit(X_train, y_train)  \n",
    "plot_learning_curve(final_xg_model, title, X_val, y_val, ylim=None, cv=3,\n",
    "                        n_jobs=-1, train_sizes=np.linspace(.1, 1.0, 5));"
   ]
  },
  {
   "cell_type": "code",
   "execution_count": 55,
   "metadata": {},
   "outputs": [
    {
     "data": {
      "image/png": "[encoded data removed]",
      "text/plain": [
       "<Figure size 720x504 with 1 Axes>"
      ]
     },
     "metadata": {},
     "output_type": "display_data"
    }
   ],
   "source": [
    "# final_xg_model.feature_importances_\n",
    "\n",
    "feat_importances = pd.Series(final_xg_model.feature_importances_, \n",
    "                             index=X_val.columns)\n",
    "plt.figure(figsize=(10,7))\n",
    "feat_importances.nlargest(10).plot(kind='barh')\n",
    "plt.xticks(fontsize=14)\n",
    "plt.yticks(fontsize=14);"
   ]
  },
  {
   "cell_type": "code",
   "execution_count": 39,
   "metadata": {},
   "outputs": [
    {
     "data": {
      "text/plain": [
       "Index(['category', 'day_of_week', 'hour_of_day', 'region', 'position',\n",
       "       'hist_ctr', 'price', 'num_searches', 'num_days', 'num_land_page_views',\n",
       "       'num_phone_req', 'price_ratio', 'title_length', 'price_search',\n",
       "       'pos_hist'],\n",
       "      dtype='object')"
      ]
     },
     "execution_count": 39,
     "metadata": {},
     "output_type": "execute_result"
    }
   ],
   "source": [
    "X_train_cat.columns"
   ]
  },
  {
   "cell_type": "code",
   "execution_count": 53,
   "metadata": {},
   "outputs": [
    {
     "data": {
      "text/plain": [
       "1.0    134795\n",
       "7.0     83690\n",
       "Name: position, dtype: int64"
      ]
     },
     "execution_count": 53,
     "metadata": {},
     "output_type": "execute_result"
    }
   ],
   "source": [
    "X_test_cat['position'].value_counts()"
   ]
  },
  {
   "cell_type": "code",
   "execution_count": null,
   "metadata": {
    "collapsed": true
   },
   "outputs": [],
   "source": []
  }
 ],
 "metadata": {
  "kernelspec": {
   "display_name": "Python 3",
   "language": "python",
   "name": "python3"
  },
  "language_info": {
   "codemirror_mode": {
    "name": "ipython",
    "version": 3
   },
   "file_extension": ".py",
   "mimetype": "text/x-python",
   "name": "python",
   "nbconvert_exporter": "python",
   "pygments_lexer": "ipython3",
   "version": "3.6.8"
  }
 },
 "nbformat": 4,
 "nbformat_minor": 2
}
